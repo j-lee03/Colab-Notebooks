{
 "cells": [
  {
   "cell_type": "markdown",
   "metadata": {
    "id": "WXEwMsfUct7U"
   },
   "source": [
    "안녕하세요.<br><br>\n",
    "수강생 여러분~! Chapter05 ~ 08 수업은 잘 들으셨나요?\n",
    "\n",
    "Chapter05 ~ 08의 수업 내용을 바탕으로 아래 문제를 풀어주시면 됩니다.\n",
    "\n",
    "<br>\n",
    "\n",
    "\n",
    "[**답변 입력 방법**]\n",
    "\n",
    "문제 아래에 있는 코드 입력창에 정답코드를 작성하신 후  __▷ 버튼을 클릭해 코드를 실행__ 해보세요<br>"
   ]
  },
  {
   "cell_type": "markdown",
   "metadata": {
    "id": "qoyC9wF-3hvs"
   },
   "source": [
    "-----"
   ]
  },
  {
   "cell_type": "markdown",
   "metadata": {},
   "source": [
    "## 모험가들의 레벨업 도전\n",
    "\n",
    "### [배경 이야기]\n",
    "\n",
    "당신은 마법사, 전사, 도적, 힐러 네 명의 모험가를 이끄는 리더입니다. \n",
    "\n",
    "각 캐릭터는 힘, 민첩, 지능, 체력이라는 능력치를 가지고 있습니다. 이 능력치들을 이용해 다양한 도전을 해결하고 사냥을 통해 경험치를 얻어 레벨업을 해야 합니다.\n",
    "\n",
    "<br>\n",
    "\n",
    "### [동료 캐릭터와 능력치 정보]\n",
    "\n",
    "마법사: 힘(10), 민첩(20), 지능(80), 체력(50)\n",
    "\n",
    "전사: 힘(80), 민첩(30), 지능(20), 체력(100)\n",
    "\n",
    "도적: 힘(40), 민첩(80), 지능(30), 체력(60)\n",
    "\n",
    "힐러: 힘(20), 민첩(40), 지능(70), 체력(70)\n",
    "\n",
    "<br>\n",
    "\n",
    "* 변수명을 영어로 변경해서 풀어보세요 !"
   ]
  },
  {
   "cell_type": "markdown",
   "metadata": {},
   "source": [
    "<br>\n",
    "\n",
    "__[문제 1: 첫 번째 사냥]__\n",
    "\n",
    "마법사는 몬스터를 사냥하기 위해 마법을 사용합니다. \n",
    "\n",
    "마법을 사용하려면 지능이 50 이상이어야 합니다. \n",
    "\n",
    "마법사의 지능이 50 이상인지 확인하세요."
   ]
  },
  {
   "cell_type": "code",
   "execution_count": 4,
   "metadata": {},
   "outputs": [
    {
     "name": "stdout",
     "output_type": "stream",
     "text": [
      "Wizard:\n",
      "- Intelligence: 80\n"
     ]
    }
   ],
   "source": [
    "characters = {\n",
    "    \"Wizard\": {\"Strength\": 10, \"Agility\": 20, \"Intelligence\": 80, \"Stamina\": 50},\n",
    "    \"Warrior\": {\"Strength\": 80, \"Agility\": 30, \"Intelligence\": 20, \"Stamina\": 100},\n",
    "    \"Rogue\": {\"Strength\": 40, \"Agility\": 80, \"Intelligence\": 30, \"Stamina\": 60},\n",
    "    \"Healer\": {\"Strength\": 20, \"Agility\": 40, \"Intelligence\": 70, \"Stamina\": 70}\n",
    "}\n",
    "\n",
    "wizard_intelligence = characters[\"Wizard\"][\"Intelligence\"]\n",
    "\n",
    "print(\"Wizard:\")\n",
    "print(f\"- Intelligence: {wizard_intelligence}\")"
   ]
  },
  {
   "cell_type": "markdown",
   "metadata": {},
   "source": [
    "<br>\n",
    "\n",
    "__[문제 2: 두 번째 사냥]__\n",
    "\n",
    "전사는 강력한 공격을 하기 위해 자신의 힘을 사용합니다. \n",
    "\n",
    "전사의 힘이 60 이상이고 체력이 80 이상인지 확인하세요."
   ]
  },
  {
   "cell_type": "code",
   "execution_count": 7,
   "metadata": {},
   "outputs": [
    {
     "name": "stdout",
     "output_type": "stream",
     "text": [
      "✅ 전사는 죽지않고살았습니다.\n",
      "- 힘 (Strength): 80\n",
      "- 체력 (Stamina): 100\n"
     ]
    }
   ],
   "source": [
    "\n",
    "characters = {\n",
    "    \"마법사\": {\"Strength\": 10, \"Agility\": 20, \"Intelligence\": 80, \"Stamina\": 50},\n",
    "    \"전사\": {\"Strength\": 80, \"Agility\": 30, \"Intelligence\": 20, \"Stamina\": 100},\n",
    "    \"도적\": {\"Strength\": 40, \"Agility\": 80, \"Intelligence\": 30, \"Stamina\": 60},\n",
    "    \"힐러\": {\"Strength\": 20, \"Agility\": 40, \"Intelligence\": 70, \"Stamina\": 70}\n",
    "}\n",
    "\n",
    "warrior_strength = characters[\"전사\"][\"Strength\"]\n",
    "warrior_stamina = characters[\"전사\"][\"Stamina\"]\n",
    "\n",
    "\n",
    "if warrior_stamina >= 60 and warrior_strength >= 80:\n",
    "    print(\"✅ 전사는 죽지않고살았습니다.\")\n",
    "    print(f\"- 힘 (Strength): {warrior_strength}\")\n",
    "    print(f\"- 체력 (Stamina): {warrior_stamina}\")\n",
    "else:\n",
    "    print(\"❌ 엌ㅋㅋㅋㅋ 죽었네 ㅋ.\")"
   ]
  },
  {
   "cell_type": "markdown",
   "metadata": {},
   "source": [
    "<br>\n",
    "\n",
    "__[문제 3: 세 번째 사냥]__\n",
    "\n",
    "도적은 민첩함을 이용해 몬스터를 회피하고 공격합니다. \n",
    "\n",
    "도적의 민첩이 70 이상이거나 힘이 50 이상인지 확인하세요."
   ]
  },
  {
   "cell_type": "code",
   "execution_count": 10,
   "metadata": {},
   "outputs": [
    {
     "name": "stdout",
     "output_type": "stream",
     "text": [
      "❌ 엌ㅋㅋㅋㅋ 죽었네 ㅋ.\n"
     ]
    }
   ],
   "source": [
    "characters = {\n",
    "    \"마법사\": {\"Strength\": 10, \"Agility\": 20, \"Intelligence\": 80, \"Stamina\": 50},\n",
    "    \"전사\": {\"Strength\": 80, \"Agility\": 30, \"Intelligence\": 20, \"Stamina\": 100},\n",
    "    \"도적\": {\"Strength\": 40, \"Agility\": 80, \"Intelligence\": 30, \"Stamina\": 60},\n",
    "    \"힐러\": {\"Strength\": 20, \"Agility\": 40, \"Intelligence\": 70, \"Stamina\": 70}\n",
    "}\n",
    "\n",
    "warrior_a = characters[\"도적\"][\"Agility\"]\n",
    "warrior_b = characters[\"도적\"][\"Strength\"]\n",
    "\n",
    "\n",
    "if warrior_a >= 70 and warrior_b >= 50:\n",
    "    print(\"✅ 도적은 죽지않고살았습니다.\")\n",
    "    print(f\"- 민첩 (Strength): {warrior_a}\")\n",
    "    print(f\"- 힘 (Stamina): {warrior_b}\")\n",
    "else:\n",
    "    print(\"❌ 엌ㅋㅋㅋㅋ 죽었네 ㅋ.\")"
   ]
  },
  {
   "cell_type": "markdown",
   "metadata": {},
   "source": [
    "<br>\n",
    "\n",
    "__[문제 4: 네 번째 사냥]__\n",
    "\n",
    "힐러는 파티의 체력을 회복시키기 위해 마법을 사용합니다. \n",
    "\n",
    "힐러의 지능이 60 이상이고, 체력이 50 이상인지 확인하세요."
   ]
  },
  {
   "cell_type": "code",
   "execution_count": 12,
   "metadata": {},
   "outputs": [
    {
     "name": "stdout",
     "output_type": "stream",
     "text": [
      "✅ 힐러는 죽지않고살았습니다.\n",
      "- 지능 (Intelligence): 70\n",
      "- 체력 (Stamina): 70\n"
     ]
    }
   ],
   "source": [
    "warrior_a = characters[\"힐러\"][\"Intelligence\"]\n",
    "warrior_b = characters[\"힐러\"][\"Stamina\"]\n",
    "\n",
    "\n",
    "if warrior_a >= 60 and warrior_b >= 50:\n",
    "    print(\"✅ 힐러는 죽지않고살았습니다.\")\n",
    "    print(f\"- 지능 (Intelligence): {warrior_a}\")\n",
    "    print(f\"- 체력 (Stamina): {warrior_b}\")\n",
    "else:\n",
    "    print(\"❌ 엌ㅋㅋㅋㅋ 죽었네 ㅋ.\")"
   ]
  },
  {
   "cell_type": "markdown",
   "metadata": {},
   "source": [
    "<br>\n",
    "\n",
    "__[문제 5: 레벨업]__\n",
    "\n",
    "모든 캐릭터가 사냥을 성공적으로 마쳤습니다. 이제 경험치를 얻어 레벨업을 해야 합니다. \n",
    "\n",
    "\n",
    "각 캐릭터의 경험치가 100 이상인지 print()를 이용해 확인해주세요.\n",
    "\n",
    "<br>\n",
    "\n",
    "경험치는 아래와 같습니다.\n",
    "\n",
    "마법사: 120\n",
    "\n",
    "전사: 150\n",
    "\n",
    "도적: 110\n",
    "\n",
    "힐러: 90\n",
    "\n"
   ]
  },
  {
   "cell_type": "code",
   "execution_count": null,
   "metadata": {},
   "outputs": [
    {
     "name": "stdout",
     "output_type": "stream",
     "text": [
      "마법사:\n",
      "{'능력치': 120}\n",
      "힐러는 안타깝게 죽었습니다.\n",
      "전사:\n",
      "{'능력치': 150}\n",
      "힐러는 안타깝게 죽었습니다.\n",
      "도적:\n",
      "{'능력치': 110}\n",
      "힐러는 안타깝게 죽었습니다.\n",
      "힐러:\n",
      "힐러는 안타깝게 죽었습니다.\n"
     ]
    }
   ],
   "source": [
    "characters = {\n",
    "    \"마법사\":{\"능력치\":120},\n",
    "    \"전사\":{\"능력치\":150},\n",
    "    \"도적\":{\"능력치\":110},\n",
    "    \"힐러\":{\"능력치\":90}\n",
    "}\n",
    "\n",
    "for character, stats in characters.items():\n",
    "    print(f\"{character}:\")\n",
    "    \n",
    "    high_stats = {stat: value for stat, value in stats.items() if value >= 100}\n",
    "    \n",
    "    if high_stats:\n",
    "        print(high_stats)\n",
    "    "
   ]
  }
 ],
 "metadata": {
  "colab": {
   "authorship_tag": "ABX9TyP7YKA5FdtGggYfD74V7SMJ",
   "provenance": []
  },
  "kernelspec": {
   "display_name": ".venv",
   "language": "python",
   "name": "python3"
  },
  "language_info": {
   "codemirror_mode": {
    "name": "ipython",
    "version": 3
   },
   "file_extension": ".py",
   "mimetype": "text/x-python",
   "name": "python",
   "nbconvert_exporter": "python",
   "pygments_lexer": "ipython3",
   "version": "3.13.6"
  }
 },
 "nbformat": 4,
 "nbformat_minor": 0
}
