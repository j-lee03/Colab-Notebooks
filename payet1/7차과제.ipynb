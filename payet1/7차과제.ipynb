{
 "cells": [
  {
   "cell_type": "markdown",
   "metadata": {},
   "source": [
    "안녕하세요. 수강생 여러분~! Chapter33 ~ 41 수업은 잘 들으셨나요?\n",
    "\n",
    "Chapter33 ~ 41의 수업 내용을 바탕으로 아래 문제를 풀어주시면 됩니다.\n",
    "\n",
    "\n",
    "<br>\n",
    "\n",
    "\n",
    "[**답변 입력 방법**]\n",
    "\n",
    "문제 아래에 있는 코드 입력창에 정답코드를 작성하신 후  __▷ 버튼을 클릭해 코드를 실행__ 해보세요<br>"
   ]
  },
  {
   "cell_type": "markdown",
   "metadata": {},
   "source": [
    "---"
   ]
  },
  {
   "cell_type": "markdown",
   "metadata": {},
   "source": [
    "[문제 1]\n",
    "\n",
    "사용자로부터 두 개의 숫자를 입력받아 나눗셈을 수행하는 프로그램을 작성하세요. \n",
    "\n",
    "[예외처리]\n",
    "- 입력 값이 숫자가 아닐 때 발생할 수 있는 ValueError\n",
    "- 나누는 수가 0일 때 발생할 수 있는 ZeroDivisionError\n",
    "- 위 2가지 예외처리 후 사용자에게 이해하기 쉬운 메시지 작성 후 출력되도록 코드를 작성"
   ]
  },
  {
   "cell_type": "code",
   "execution_count": null,
   "metadata": {},
   "outputs": [],
   "source": [
    "try:\n",
    "    num1 = float(input(\"첫 번째 숫자를 입력하세요: \"))\n",
    "    num2 = float(input(\"두 번째 숫자를 입력하세요: \"))\n",
    "    result = num1 / num2\n",
    "    print(f\"나눗셈 결과: {result}\")\n",
    "except ValueError:\n",
    "    print(\"오류: 잘못된 값입니다. 숫자를 입력해주세요.\")\n",
    "except ZeroDivisionError:\n",
    "    print(\"오류: 0으로 나눌 수 없습니다.\")"
   ]
  },
  {
   "cell_type": "markdown",
   "metadata": {},
   "source": [
    "---"
   ]
  },
  {
   "cell_type": "markdown",
   "metadata": {},
   "source": [
    "[문제 2]\n",
    "\n",
    "파일을 읽어서 내용을 출력하는 프로그램을 작성하세요. \n",
    "\n",
    "- 파일이 존재하지 않을 때 발생하는 FileNotFoundError를 처리\n",
    "- 파일이 존재하지 않을 경우 \"파일을 찾을 수 없습니다.\"라는 메시지를 출력"
   ]
  },
  {
   "cell_type": "code",
   "execution_count": null,
   "metadata": {},
   "outputs": [],
   "source": [
    "try:\n",
    "    with open('nonexistent_file.txt', 'r') as f:\n",
    "        content = f.read()\n",
    "        print(content)\n",
    "except FileNotFoundError:\n",
    "    print(\"파일을 찾을 수 없습니다.\")"
   ]
  },
  {
   "cell_type": "markdown",
   "metadata": {},
   "source": [
    "---"
   ]
  },
  {
   "cell_type": "markdown",
   "metadata": {},
   "source": [
    "[문제 3]\n",
    "\n",
    "사용자로부터 여러 개의 숫자를 입력받아 리스트에 저장한 후, 사용자가 'done'이라고 입력할 때까지 계속 입력받으세요. \n",
    "\n",
    "- 입력 중 숫자가 아닌 값이 입력되면 ValueError를 처리\n",
    "- 숫자 외 값이 입력된 경우 어떤 값이 잘못 입력되었는지 사용자에게 알려주는 문구 출력<br>\n",
    "  (예: f\"잘못된 값: {변수}. 숫자를 입력해주세요.\")\n",
    "\n"
   ]
  },
  {
   "cell_type": "code",
   "execution_count": null,
   "metadata": {},
   "outputs": [],
   "source": [
    "numbers = []\n",
    "print(\"숫자를 입력하세요. 입력을 마치려면 '중지'을 입력하세요.\")\n",
    "while True:\n",
    "    user_input = input(\"숫자 입력: \")\n",
    "    if user_input.lower() == '중지11\n",
    "    ':\n",
    "        break\n",
    "    try:\n",
    "        numbers.append(int(user_input))\n",
    "    except ValueError:\n",
    "        print(f\"잘못된 값: {user_input}. 숫자를 입력해주세요.\")\n",
    "print(\"\\n입력된 숫자 리스트:\", numbers)"
   ]
  },
  {
   "cell_type": "markdown",
   "metadata": {},
   "source": [
    "---"
   ]
  },
  {
   "cell_type": "markdown",
   "metadata": {},
   "source": [
    "[문제 4]\n",
    "\n",
    "사용자 정의 예외 NegativeNumberError를 생성하고, 사용자로부터 숫자를 입력받아 음수일 경우 NegativeNumberError를 발생시키는 프로그램을 작성하세요. \n",
    "\n",
    "- 예외 처리 구문을 사용하여 음수 입력 시 \"양수를 입력해주세요.\"라는 메시지를 출력"
   ]
  },
  {
   "cell_type": "code",
   "execution_count": null,
   "metadata": {},
   "outputs": [],
   "source": [
    "class NegativeNumberError(Exception):\n",
    "    pass\n",
    "try:\n",
    "    num = int(input(\"양수를 입력하세요: \"))\n",
    "    if num < 0:\n",
    "        raise NegativeNumberError() \n",
    "    print(f\"입력한 양수는 {num}입니다.\")\n",
    "except NegativeNumberError:\n",
    "    print(\"양수를 입력해주세요.\")\n",
    "except ValueError:\n",
    "    print(\"숫자를 입력해야 합니다.\")"
   ]
  },
  {
   "cell_type": "markdown",
   "metadata": {},
   "source": [
    "---"
   ]
  },
  {
   "cell_type": "markdown",
   "metadata": {},
   "source": [
    "[문제 5]\n",
    "\n",
    "datetime 모듈을 사용하여 현재 날짜와 시간을 출력하는 프로그램을 작성하세요. \n",
    "\n",
    "또한, 사용자로부터 태어난 년도를 입력받아 현재 나이를 계산하여 출력하세요."
   ]
  },
  {
   "cell_type": "code",
   "execution_count": null,
   "metadata": {},
   "outputs": [],
   "source": [
    "import datetime\n",
    "now = datetime.datetime.now()\n",
    "print(f\"현재 날짜와 시간: {now}\")\n",
    "birth_year = int(input(\"\\n태어난 년도를 입력하세요: \"))\n",
    "current_year = now.year\n",
    "age = current_year - birth_year\n",
    "print(f\"당신의 나이는 약 {age}세입니다.\")"
   ]
  },
  {
   "cell_type": "markdown",
   "metadata": {},
   "source": [
    "---"
   ]
  },
  {
   "cell_type": "markdown",
   "metadata": {},
   "source": [
    "[문제 6]\n",
    "\n",
    "requests 모듈을 사용하여, 웹 페이지의 HTML을 가져오는 간단한 웹 스크레이퍼를 작성하세요.\n",
    "\n",
    "'https://kream.co.kr/'에서<br> \n",
    "데이터를 가져와서 상태 코드와 HTML의 첫 100자를 출력하세요.<br>\n",
    "(실습 전 requests 모듈을 설치해야 함)"
   ]
  },
  {
   "cell_type": "code",
   "execution_count": null,
   "metadata": {},
   "outputs": [],
   "source": [
    "import requests\n",
    "url = 'https://kream.co.kr/'\n",
    "try:\n",
    "    response = requests.get(url)\n",
    "    print(f\"상태 코드: {response.status_code}\")\n",
    "    print(\"\\nHTML 첫 100자:\")\n",
    "    print(response.text[:100])\n",
    "except requests.exceptions.RequestException as e:\n",
    "    print(f\"웹 페이지를 가져오는 중 오류가 발생했습니다: {e}\")"
   ]
  },
  {
   "cell_type": "markdown",
   "metadata": {},
   "source": [
    "---"
   ]
  },
  {
   "cell_type": "markdown",
   "metadata": {},
   "source": [
    "[문제 7]\n",
    "\n",
    "함수 실행 시간을 측정하는 데코레이터 timer_decorator를 작성하세요. \n",
    "\n",
    "임의의 함수가 실행되는 시간을 측정하여 \"함수 실행 시간: x.xx초\" 형태로 출력하세요."
   ]
  },
  {
   "cell_type": "code",
   "execution_count": null,
   "metadata": {},
   "outputs": [],
   "source": [
    "import time\n",
    "def timer_decorator(func):\n",
    "    def wrapper(*args, **kwargs):\n",
    "        start_time = time.time()  \n",
    "        result = func(*args, **kwargs)  \n",
    "        end_time = time.time()  \n",
    "        execution_time = end_time - start_time\n",
    "        print(f\"'{func.__name__}' 함수 실행 시간: {execution_time:.2f}초\")\n",
    "        return result\n",
    "    return wrapper\n",
    "@timer_decorator\n",
    "def example_function():\n",
    "    print(\"함수가 실행됩니다.\")\n",
    "    time.sleep(1.5) \n",
    "    print(\"함수 실행이 완료되었습니다.\")\n",
    "example_function()"
   ]
  },
  {
   "cell_type": "markdown",
   "metadata": {},
   "source": [
    "---"
   ]
  },
  {
   "cell_type": "markdown",
   "metadata": {},
   "source": [
    "[문제 8]\n",
    "\n",
    "여러분이 자주 사용하는 수학적 연산<br>\n",
    "(예: 삼각형 넓이, 원의 넓이, 직육면체의 넓이)을 수행하는 함수들을 포함하는 mymath.py라는 이름의 모듈을 만드세요. \n",
    "\n",
    "이 모듈을 사용하여 작성된 함수들을 실제로 임포트하고 사용하는 간단한 프로그램을 작성하세요."
   ]
  },
  {
   "cell_type": "code",
   "execution_count": null,
   "metadata": {},
   "outputs": [],
   "source": [
    "%%writefile mymath.py\n",
    "def triangle_area(base, height):\n",
    "    return 0.5 * base * height\n",
    "def circle_area(radius):\n",
    "    PI = 3.14159\n",
    "    return PI * (radius ** 2)\n",
    "def cuboid_volume(width, length, height):\n",
    "    return width * length * height"
   ]
  },
  {
   "cell_type": "code",
   "execution_count": null,
   "metadata": {},
   "outputs": [],
   "source": [
    "import mymath\n",
    "tri_area = mymath.triangle_area(10, 5)\n",
    "cir_area = mymath.circle_area(7)\n",
    "cub_vol = mymath.cuboid_volume(3, 4, 5)\n",
    "print(f\"밑변 10, 높이 5인 삼각형의 넓이: {tri_area}\")\n",
    "print(f\"반지름 7인 원의 넓이: {cir_area}\")\n",
    "print(f\"가로 3, 세로 4, 높이 5인 직육면체의 부피: {cub_vol}\")"
   ]
  },
  {
   "cell_type": "markdown",
   "metadata": {},
   "source": [
    "---"
   ]
  },
  {
   "cell_type": "markdown",
   "metadata": {},
   "source": [
    "[문제 9]\n",
    "\n",
    "animals라는 패키지를 만들고, 이 패키지 내에 mammals, birds라는 두 개의 서브 모듈을 생성하세요. \n",
    "\n",
    "- 각 모듈에는 최소한 한 개 이상의 동물에 관한 클래스를 정의하세요<br>\n",
    "  (예: mammals에는 Dog, birds에는 Eagle)\n",
    "- 이 패키지와 모듈을 사용하여 동물들의 정보를 출력하는 프로그램을 작성\n",
    "\n",
    "폴더 및 파일 구조\n",
    "```\n",
    "animals/(폴더)\n",
    "├── __init__.py\n",
    "├── mammals.py\n",
    "└── birds.py\n",
    "```\n"
   ]
  },
  {
   "cell_type": "code",
   "execution_count": null,
   "metadata": {},
   "outputs": [],
   "source": [
    "!mkdir -p animals\n",
    "!touch animals/__init__.py\n",
    "%%writefile animals/mammals.py\n",
    "class Dog:\n",
    "    def __init__(self, name):\n",
    "        self.name = name\n",
    "    \n",
    "    def speak(self):\n",
    "        return f\"🐶 {self.name}가(이) 멍멍 짖습니다!\"\n",
    "%%writefile animals/birds.py\n",
    "class Eagle:\n",
    "    def __init__(self, name):\n",
    "        self.name = name\n",
    "    def fly(self):\n",
    "        return f\"🦅 {self.name}가(이) 하늘을 높이 납니다!\""
   ]
  },
  {
   "cell_type": "code",
   "execution_count": null,
   "metadata": {},
   "outputs": [],
   "source": [
    "from animals.mammals import Dog\n",
    "from animals.birds import Eagle\n",
    "my_dog = Dog(\"해피\")\n",
    "my_eagle = Eagle(\"용맹이\")\n",
    "print(my_dog.speak())\n",
    "print(my_eagle.fly())"
   ]
  },
  {
   "cell_type": "markdown",
   "metadata": {},
   "source": [
    "---"
   ]
  }
 ],
 "metadata": {
  "language_info": {
   "name": "python"
  }
 },
 "nbformat": 4,
 "nbformat_minor": 2
}
